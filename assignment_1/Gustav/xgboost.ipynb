{
 "cells": [
  {
   "cell_type": "code",
   "execution_count": null,
   "metadata": {},
   "outputs": [],
   "source": [
    "# Inspiration:\n",
    "# https://www.datacamp.com/tutorial/xgboost-in-python"
   ]
  },
  {
   "cell_type": "code",
   "execution_count": 1,
   "metadata": {},
   "outputs": [],
   "source": [
    "#------ Load libraries\n",
    "from sklearn.model_selection import train_test_split\n",
    "from sklearn.model_selection import GridSearchCV\n",
    "from sklearn.metrics import accuracy_score\n",
    "import xgboost as xgb\n",
    "import pandas as pd\n",
    "import numpy as np\n",
    "\n"
   ]
  },
  {
   "cell_type": "code",
   "execution_count": 21,
   "metadata": {},
   "outputs": [
    {
     "name": "stdout",
     "output_type": "stream",
     "text": [
      "(48000, 204) (12000, 204) (48000,)\n",
      "(38400, 204) (9600, 204) (38400,) (9600,)\n"
     ]
    }
   ],
   "source": [
    "# ------ Load data ------\n",
    "X_train = np.load('../Common/data/X_train.npy')\n",
    "X_test = np.load('../Common/data/X_test.npy')\n",
    "y_train = np.load('../Common/data/y_train.npy')\n",
    "\n",
    "print(X_train.shape, X_test.shape, y_train.shape)\n",
    "\n",
    "# Train-validation split\n",
    "X_train, X_val, y_train, y_val = train_test_split(X_train, # X data\n",
    "                                                  y_train, # y data\n",
    "                                                  test_size = 0.2,\n",
    "                                                  random_state = 42)\n",
    "\n",
    "print(X_train.shape, X_val.shape, y_train.shape, y_val.shape)"
   ]
  },
  {
   "cell_type": "code",
   "execution_count": 22,
   "metadata": {},
   "outputs": [
    {
     "name": "stdout",
     "output_type": "stream",
     "text": [
      "XGBoost achieved 87.7% accuracy.\n"
     ]
    }
   ],
   "source": [
    "# Initialize XGBoost\n",
    "params = {  'max_depth':        [3,6,10],\n",
    "            'learning_rate':    [0.01, 0.05, 0.1],\n",
    "            'n_estimators':     [100, 500, 1000],\n",
    "            'colsample_bytree': [0.3, 0.7]}\n",
    "\n",
    "#clf = GridSearchCV(estimator=xgb, \n",
    "                   #param_grid=params,\n",
    "                   #scoring='accuracy', \n",
    "                   #verbose=1)\n",
    "\n",
    "# Best params\n",
    "#print(\"Best parameters:\", xgb.best_params_)\n",
    "\n",
    "# Fit your DT\n",
    "xgb = xgb.XGBClassifier(colsample_bytree = 0.3,\n",
    "                        learning_rate = 0.05,\n",
    "                        max_depth = 3,\n",
    "                        n_estimators = 1000)\n",
    "                        \n",
    "xgb.fit(X_train, y_train)\n",
    "\n",
    "# Predict on your test data with your XGBoost\n",
    "y_train_hat_xg = xgb.predict(X_val)\n",
    "accuracy = accuracy_score(y_train_hat_xg, y_val)\n",
    "\n",
    "# Print results\n",
    "print(f'XGBoost achieved {round(accuracy * 100, 1)}% accuracy.')"
   ]
  },
  {
   "cell_type": "code",
   "execution_count": 23,
   "metadata": {},
   "outputs": [],
   "source": [
    "# The below code makes predictions and then saves them (after checking they are in correct format).\n",
    "y_test_hat = xgb.predict(X_test)\n",
    "y_test_hat_pd = pd.DataFrame({\n",
    "    'Id': list(range(len(y_test_hat))),\n",
    "    'Category': y_test_hat,\n",
    "})"
   ]
  },
  {
   "cell_type": "code",
   "execution_count": 24,
   "metadata": {},
   "outputs": [],
   "source": [
    "# After you make your predictions, you should submit them on the Kaggle webpage for our competition.\n",
    "\n",
    "# Below is a small check that your output has the right type and shape\n",
    "assert isinstance(y_test_hat_pd, pd.DataFrame)\n",
    "assert all(y_test_hat_pd.columns == ['Id', 'Category'])\n",
    "\n",
    "# If you pass the checks, the file is saved.\n",
    "y_test_hat_pd.to_csv('y_test_hat.csv', index=False)"
   ]
  }
 ],
 "metadata": {
  "kernelspec": {
   "display_name": "Python 3.10.2 ('myvenv': venv)",
   "language": "python",
   "name": "python3"
  },
  "language_info": {
   "codemirror_mode": {
    "name": "ipython",
    "version": 3
   },
   "file_extension": ".py",
   "mimetype": "text/x-python",
   "name": "python",
   "nbconvert_exporter": "python",
   "pygments_lexer": "ipython3",
   "version": "3.10.2"
  },
  "orig_nbformat": 4,
  "vscode": {
   "interpreter": {
    "hash": "95dc4270b20a249b6c9d642703d9f4d4485f94bf47a9e58a028d0f9f72c45d44"
   }
  }
 },
 "nbformat": 4,
 "nbformat_minor": 2
}
